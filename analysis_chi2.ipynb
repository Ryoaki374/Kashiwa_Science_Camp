{
 "cells": [
  {
   "cell_type": "code",
   "execution_count": null,
   "metadata": {},
   "outputs": [],
   "source": []
  },
  {
   "cell_type": "code",
   "execution_count": null,
   "metadata": {},
   "outputs": [],
   "source": [
    "import numpy as np\n",
    "import pylab as py\n",
    "\n",
    "m=np.loadtxt('fakedata1.txt', unpack=True)\n",
    "\n",
    "def chi_sq(data_x,data_y,n1):\n",
    "    c = 3.0*10**8\n",
    "    n0 = 1.\n",
    "    ns = 1.\n",
    "    sigma = 0.0290029\n",
    "    d  = 4.9e-3\n",
    "    x = 2*np.pi*m[0]*n1*d/c*10**9\n",
    "    model = 4*n0*ns*n1**2/(n1**2*(n0+ns)**2*np.cos(x)**2+(n0*ns+n1**2)**2*np.sin(x)**2)\n",
    "    chi_sq = 1/(len(m)-1)*np.sum((data_y-model)**2/(sigma)**2)\n",
    "    return chi_sq\n",
    "\n",
    "\n",
    "data_x = m[0]\n",
    "data_y = m[1]\n",
    "n1 = np.linspace(3.12,3.16,10000)\n",
    "chi_arr =[]\n",
    "for i in range (0,len(n1)):\n",
    "    chi_i = chi_sq(data_x,data_y,n1[i])\n",
    "    chi_arr.append(chi_i)\n",
    "\n",
    "\n",
    "ind = np.where( chi_arr < np.min(chi_arr)+1 )\n",
    "ind = ind[0]\n",
    "n1_low = n1[ind[0]]\n",
    "n1_high = n1[ind[-1]]\n",
    "\n",
    "print('sigma_n1 =', (n1_high - n1_low)/2.)\n",
    "print()\n",
    "    \n",
    "plt.scatter(n1, chi_arr)\n",
    "plt.xlabel('n')\n",
    "plt.ylabel('$\\chi^2$')\n",
    "plt.show\n",
    "plt.ylim(np.min(chi_arr)-1,np.min(chi_arr)+3)\n",
    "plt.xlim(n1[np.argmin(chi_arr)]-3*(n1_high - n1_low)/2,n1[np.argmin(chi_arr)]+3*(n1_high - n1_low)/2.)\n",
    "py.plot( [n1_low, n1_low], [np.min(chi_arr)-1,np.min(chi_arr)+3], '--')\n",
    "py.plot( [n1_high, n1_high], [np.min(chi_arr)-1,np.min(chi_arr)+3], '--')\n",
    "plt.plot(n1, np.min(chi_arr)*np.ones(len(m[0])*10))\n",
    "plt.plot(n1, np.min(chi_arr)*np.ones(len(m[0])*10)+1.)\n",
    "plt.grid()\n",
    "\n",
    "print('n1の値',n1[np.argmin(chi_arr)])\n",
    "print('chi_sqの値',np.min(chi_arr))\n",
    "\n",
    "print()\n",
    "#print('curve_fitの屈折率の値-chi_sqで求めたn1の値:',3.14253899-n1[np.argmin(chi_arr)])\n",
    "#print('curve_fitのsigma_nの値-chi_sqで求めたsigma_nの値:',0.00016346-(n1_high - n1_low)/2.)"
   ]
  }
 ],
 "metadata": {
  "language_info": {
   "name": "python"
  }
 },
 "nbformat": 4,
 "nbformat_minor": 2
}
